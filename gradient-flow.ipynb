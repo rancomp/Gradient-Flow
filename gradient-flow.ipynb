{
 "cells": [
  {
   "cell_type": "code",
   "execution_count": 21,
   "id": "61a7989d",
   "metadata": {},
   "outputs": [
    {
     "name": "stdout",
     "output_type": "stream",
     "text": [
      "Requirement already satisfied: cycler==0.10.0 in ./env/lib/python3.9/site-packages (from -r requirements.txt (line 1)) (0.10.0)\n",
      "Requirement already satisfied: joblib==1.0.1 in ./env/lib/python3.9/site-packages (from -r requirements.txt (line 2)) (1.0.1)\n",
      "Requirement already satisfied: kiwisolver==1.3.1 in ./env/lib/python3.9/site-packages (from -r requirements.txt (line 3)) (1.3.1)\n",
      "Requirement already satisfied: matplotlib==3.4.3 in ./env/lib/python3.9/site-packages (from -r requirements.txt (line 4)) (3.4.3)\n",
      "Requirement already satisfied: mpmath==1.2.1 in ./env/lib/python3.9/site-packages (from -r requirements.txt (line 5)) (1.2.1)\n",
      "Requirement already satisfied: numpy==1.21.2 in ./env/lib/python3.9/site-packages (from -r requirements.txt (line 6)) (1.21.2)\n",
      "Requirement already satisfied: Pillow==8.3.1 in ./env/lib/python3.9/site-packages (from -r requirements.txt (line 7)) (8.3.1)\n",
      "Requirement already satisfied: pyparsing==2.4.7 in ./env/lib/python3.9/site-packages (from -r requirements.txt (line 8)) (2.4.7)\n",
      "Requirement already satisfied: python-dateutil==2.8.2 in ./env/lib/python3.9/site-packages (from -r requirements.txt (line 9)) (2.8.2)\n",
      "Requirement already satisfied: scikit-learn==0.24.2 in ./env/lib/python3.9/site-packages (from -r requirements.txt (line 10)) (0.24.2)\n",
      "Requirement already satisfied: scipy==1.7.1 in ./env/lib/python3.9/site-packages (from -r requirements.txt (line 11)) (1.7.1)\n",
      "Requirement already satisfied: six==1.16.0 in ./env/lib/python3.9/site-packages (from -r requirements.txt (line 12)) (1.16.0)\n",
      "Requirement already satisfied: sklearn==0.0 in ./env/lib/python3.9/site-packages (from -r requirements.txt (line 13)) (0.0)\n",
      "Requirement already satisfied: sympy==1.8 in ./env/lib/python3.9/site-packages (from -r requirements.txt (line 14)) (1.8)\n",
      "Requirement already satisfied: threadpoolctl==2.2.0 in ./env/lib/python3.9/site-packages (from -r requirements.txt (line 15)) (2.2.0)\n",
      "\u001b[33mWARNING: You are using pip version 20.2.3; however, version 21.2.4 is available.\n",
      "You should consider upgrading via the '/Users/ranc/Documents/Projects/Gradient Flow/env/bin/python3 -m pip install --upgrade pip' command.\u001b[0m\n"
     ]
    }
   ],
   "source": [
    "!python3 -m venv env\n",
    "!source env/bin/activate\n",
    "!pip install -r requirements.txt"
   ]
  },
  {
   "cell_type": "code",
   "execution_count": 25,
   "id": "1095883f",
   "metadata": {},
   "outputs": [
    {
     "ename": "ModuleNotFoundError",
     "evalue": "No module named 'sympy'",
     "output_type": "error",
     "traceback": [
      "\u001b[0;31m---------------------------------------------------------------------------\u001b[0m",
      "\u001b[0;31mModuleNotFoundError\u001b[0m                       Traceback (most recent call last)",
      "\u001b[0;32m~/Documents/Projects/Gradient Flow/sphere.py\u001b[0m in \u001b[0;36m<module>\u001b[0;34m\u001b[0m\n\u001b[1;32m      2\u001b[0m \u001b[0;32mimport\u001b[0m \u001b[0mscipy\u001b[0m \u001b[0;32mas\u001b[0m \u001b[0msp\u001b[0m\u001b[0;34m\u001b[0m\u001b[0;34m\u001b[0m\u001b[0m\n\u001b[1;32m      3\u001b[0m \u001b[0;32mimport\u001b[0m \u001b[0mmath\u001b[0m\u001b[0;34m\u001b[0m\u001b[0;34m\u001b[0m\u001b[0m\n\u001b[0;32m----> 4\u001b[0;31m \u001b[0;32mfrom\u001b[0m \u001b[0msympy\u001b[0m\u001b[0;34m.\u001b[0m\u001b[0mtensor\u001b[0m\u001b[0;34m.\u001b[0m\u001b[0marray\u001b[0m \u001b[0;32mimport\u001b[0m \u001b[0mderive_by_array\u001b[0m \u001b[0;31m#Symbolic gradient calculation\u001b[0m\u001b[0;34m\u001b[0m\u001b[0;34m\u001b[0m\u001b[0m\n\u001b[0m\u001b[1;32m      5\u001b[0m \u001b[0;32mfrom\u001b[0m \u001b[0msympy\u001b[0m\u001b[0;34m.\u001b[0m\u001b[0mabc\u001b[0m \u001b[0;32mimport\u001b[0m \u001b[0mx\u001b[0m\u001b[0;34m,\u001b[0m\u001b[0my\u001b[0m\u001b[0;34m,\u001b[0m\u001b[0mz\u001b[0m \u001b[0;31m#Defining symbolic parameters for sympy and for the function so that I can calc the gradient at any point\u001b[0m\u001b[0;34m\u001b[0m\u001b[0;34m\u001b[0m\u001b[0m\n\u001b[1;32m      6\u001b[0m \u001b[0;32mimport\u001b[0m \u001b[0mmatplotlib\u001b[0m\u001b[0;34m.\u001b[0m\u001b[0mpyplot\u001b[0m \u001b[0;32mas\u001b[0m \u001b[0mplt\u001b[0m\u001b[0;34m\u001b[0m\u001b[0;34m\u001b[0m\u001b[0m\n",
      "\u001b[0;31mModuleNotFoundError\u001b[0m: No module named 'sympy'"
     ]
    }
   ],
   "source": [
    "%run sphere.py"
   ]
  },
  {
   "cell_type": "code",
   "execution_count": 26,
   "id": "d64fb442",
   "metadata": {},
   "outputs": [
    {
     "ename": "ModuleNotFoundError",
     "evalue": "No module named 'sympy'",
     "output_type": "error",
     "traceback": [
      "\u001b[0;31m---------------------------------------------------------------------------\u001b[0m",
      "\u001b[0;31mModuleNotFoundError\u001b[0m                       Traceback (most recent call last)",
      "\u001b[0;32m~/Documents/Projects/Gradient Flow/flow.py\u001b[0m in \u001b[0;36m<module>\u001b[0;34m\u001b[0m\n\u001b[1;32m      1\u001b[0m \u001b[0;32mimport\u001b[0m \u001b[0mnumpy\u001b[0m \u001b[0;32mas\u001b[0m \u001b[0mnp\u001b[0m\u001b[0;34m\u001b[0m\u001b[0;34m\u001b[0m\u001b[0m\n\u001b[0;32m----> 2\u001b[0;31m \u001b[0;32mfrom\u001b[0m \u001b[0msympy\u001b[0m\u001b[0;34m.\u001b[0m\u001b[0mtensor\u001b[0m\u001b[0;34m.\u001b[0m\u001b[0marray\u001b[0m \u001b[0;32mimport\u001b[0m \u001b[0mderive_by_array\u001b[0m \u001b[0;31m#Symbolic gradient calculation\u001b[0m\u001b[0;34m\u001b[0m\u001b[0;34m\u001b[0m\u001b[0m\n\u001b[0m\u001b[1;32m      3\u001b[0m \u001b[0;32mfrom\u001b[0m \u001b[0msympy\u001b[0m\u001b[0;34m.\u001b[0m\u001b[0mabc\u001b[0m \u001b[0;32mimport\u001b[0m \u001b[0mx\u001b[0m\u001b[0;34m,\u001b[0m\u001b[0my\u001b[0m\u001b[0;34m,\u001b[0m\u001b[0mz\u001b[0m \u001b[0;31m#Defining symbolic parameters for sympy and for the function so that I can calc the gradient at any point\u001b[0m\u001b[0;34m\u001b[0m\u001b[0;34m\u001b[0m\u001b[0m\n\u001b[1;32m      4\u001b[0m \u001b[0;32mimport\u001b[0m \u001b[0mmatplotlib\u001b[0m\u001b[0;34m.\u001b[0m\u001b[0mpyplot\u001b[0m \u001b[0;32mas\u001b[0m \u001b[0mplt\u001b[0m\u001b[0;34m\u001b[0m\u001b[0;34m\u001b[0m\u001b[0m\n\u001b[1;32m      5\u001b[0m \u001b[0;32mfrom\u001b[0m \u001b[0msklearn\u001b[0m\u001b[0;34m.\u001b[0m\u001b[0mneighbors\u001b[0m \u001b[0;32mimport\u001b[0m \u001b[0mNearestNeighbors\u001b[0m\u001b[0;34m\u001b[0m\u001b[0;34m\u001b[0m\u001b[0m\n",
      "\u001b[0;31mModuleNotFoundError\u001b[0m: No module named 'sympy'"
     ]
    }
   ],
   "source": [
    "%run flow.py"
   ]
  },
  {
   "cell_type": "code",
   "execution_count": null,
   "id": "3946f9f7",
   "metadata": {},
   "outputs": [],
   "source": []
  }
 ],
 "metadata": {
  "kernelspec": {
   "display_name": "Python 3",
   "language": "python",
   "name": "python3"
  },
  "language_info": {
   "codemirror_mode": {
    "name": "ipython",
    "version": 3
   },
   "file_extension": ".py",
   "mimetype": "text/x-python",
   "name": "python",
   "nbconvert_exporter": "python",
   "pygments_lexer": "ipython3",
   "version": "3.9.1"
  }
 },
 "nbformat": 4,
 "nbformat_minor": 5
}

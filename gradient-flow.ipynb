{
 "cells": [
  {
   "cell_type": "code",
   "execution_count": 21,
   "source": [
    "%run sphere.py\n",
    "%run flow.py"
   ],
   "outputs": [],
   "metadata": {}
  },
  {
   "cell_type": "markdown",
   "source": [
    "### Examples"
   ],
   "metadata": {}
  },
  {
   "cell_type": "markdown",
   "source": [
    "Example code with f = 0.3z\n",
    "Note that the variables x,y,z are reserved for symbolic algebra. Just set func accordingly (the gradient is caclulated symbolically)."
   ],
   "metadata": {}
  },
  {
   "cell_type": "code",
   "execution_count": 22,
   "source": [
    "from flow import Flow\n",
    "from sympy.abc import x,y,z #Defining symbolic parameters for sympy and for the function so that I can calc the gradient at any point\n",
    "\n",
    "\n",
    "func = 0.3*z\n",
    "flow = Flow(func)\n",
    "\n",
    "for i in range(3):\n",
    "    print(\"Step No.\", i)\n",
    "    flow.step_flow()\n",
    "\n",
    "#flow.plot_scatter(True) #Set True to show projections on the cardinal planes"
   ],
   "outputs": [
    {
     "output_type": "stream",
     "name": "stdout",
     "text": [
      "Step No. 0\n",
      "Step No. 1\n",
      "Step No. 2\n"
     ]
    }
   ],
   "metadata": {}
  },
  {
   "cell_type": "markdown",
   "source": [
    "Another example with spherically symmetric potential. This time the flow is fixed (the gradient is proportional to the normal at each point)."
   ],
   "metadata": {}
  },
  {
   "cell_type": "code",
   "execution_count": 23,
   "source": [
    "func2 = 0.3* (x**2 + y**2 + z**2)\n",
    "flow2 = Flow(func2)\n",
    "\n",
    "for i in range(3):\n",
    "    print(\"Step No.\", i)\n",
    "    flow2.step_flow()\n",
    "\n",
    "#flow2.plot_scatter(True)"
   ],
   "outputs": [
    {
     "output_type": "stream",
     "name": "stdout",
     "text": [
      "Step No. 0\n",
      "Step No. 1\n",
      "Step No. 2\n"
     ]
    }
   ],
   "metadata": {}
  }
 ],
 "metadata": {
  "kernelspec": {
   "name": "python3",
   "display_name": "Python 3.9.4 64-bit"
  },
  "language_info": {
   "codemirror_mode": {
    "name": "ipython",
    "version": 3
   },
   "file_extension": ".py",
   "mimetype": "text/x-python",
   "name": "python",
   "nbconvert_exporter": "python",
   "pygments_lexer": "ipython3",
   "version": "3.9.4"
  },
  "interpreter": {
   "hash": "aee8b7b246df8f9039afb4144a1f6fd8d2ca17a180786b69acc140d282b71a49"
  }
 },
 "nbformat": 4,
 "nbformat_minor": 5
}